{
 "cells": [
  {
   "cell_type": "markdown",
   "metadata": {},
   "source": [
    "# Import libraries"
   ]
  },
  {
   "cell_type": "code",
   "execution_count": 1,
   "metadata": {
    "collapsed": true
   },
   "outputs": [],
   "source": [
    "import os, glob, csv, sys, re\n",
    "from os import path\n",
    "import pandas as pd\n",
    "from bs4 import BeautifulSoup"
   ]
  },
  {
   "cell_type": "markdown",
   "metadata": {},
   "source": [
    "# Define directories"
   ]
  },
  {
   "cell_type": "code",
   "execution_count": 2,
   "metadata": {
    "collapsed": true
   },
   "outputs": [],
   "source": [
    "number = '12'\n",
    "userhome = os.path.expanduser('~')\n",
    "dataset = userhome + r'/mining-forum/data/forumfiles_' + number + '/'\n",
    "analyze_dir = userhome + r'/mining-forum/analyze/'"
   ]
  },
  {
   "cell_type": "markdown",
   "metadata": {},
   "source": [
    "# Counting number of files"
   ]
  },
  {
   "cell_type": "code",
   "execution_count": 3,
   "metadata": {},
   "outputs": [
    {
     "name": "stdout",
     "output_type": "stream",
     "text": [
      "Found 43999 files\n"
     ]
    }
   ],
   "source": [
    "file_list = glob.iglob(dataset + '*')\n",
    "filenum = ';'.join(file_list).split(';')\n",
    "filenum.sort()\n",
    "print (\"Found \" + str(len(filenum)) + \" files\")"
   ]
  },
  {
   "cell_type": "markdown",
   "metadata": {},
   "source": [
    "# Clean the noisy data (remove duplicate and bot files)"
   ]
  },
  {
   "cell_type": "code",
   "execution_count": null,
   "metadata": {},
   "outputs": [],
   "source": [
    "file = []\n",
    "mid_list = []\n",
    "num = 0\n",
    "for files in glob.iglob(dataset + \"*\"):\n",
    "# for n in range (1,101):\n",
    "    num += 1\n",
    "    sys.stdout.write('\\rExtracting file number: %i' %(num) + ' / %i' %(len(filenum)))\n",
    "    sys.stdout.flush()\n",
    "\n",
    "#     fnum = str(1000000 + n)\n",
    "#     f = open(dataset + fnum)\n",
    "    f = open(files)\n",
    "    f = f.read()\n",
    "    \n",
    "    file_num = re.search('\\/(\\d+)', files)\n",
    "    file_num = file_num.group(1)\n",
    "    \n",
    "    try:      \n",
    "        msid = []\n",
    "        soup = BeautifulSoup(f, 'html.parser')\n",
    "        for message_id in soup.find_all('td', attrs={'class':'MsgR1 vt al MsgSubText'}):\n",
    "            for mid in message_id.find_all('span', attrs={'class':'SmallText'}):\n",
    "                for msgid in mid.find_all('a'):\n",
    "                    msid.append(msgid.text)\n",
    "#         msid = msid[0]\n",
    "        \n",
    "        if msid not in mid_list:\n",
    "            mid_list.append(msid)\n",
    "            clean_file = [file_num, msid]\n",
    "            file.append(clean_file)\n",
    "        else:\n",
    "            pass\n",
    "    except:\n",
    "        pass\n",
    "    \n",
    "print (\"\\nFiltering files are finished\")"
   ]
  },
  {
   "cell_type": "code",
   "execution_count": null,
   "metadata": {
    "scrolled": true
   },
   "outputs": [],
   "source": [
    "file.sort()\n",
    "file"
   ]
  },
  {
   "cell_type": "code",
   "execution_count": null,
   "metadata": {},
   "outputs": [],
   "source": [
    "len(file)"
   ]
  },
  {
   "cell_type": "code",
   "execution_count": null,
   "metadata": {},
   "outputs": [],
   "source": [
    "with open (analyze_dir + 'csv_files/clean_files/fixed/clean_files_forum_' + number + 'with_msgid.csv', 'w') as csvfile:\n",
    "    writers = csv.writer(csvfile, delimiter = \",\")\n",
    "    header = ['file_number', 'message_id']\n",
    "    writers.writerow(header)\n",
    "    for item in file:\n",
    "        writers.writerow(item)\n",
    "print ('CSV file has been created')"
   ]
  },
  {
   "cell_type": "code",
   "execution_count": null,
   "metadata": {
    "collapsed": true
   },
   "outputs": [],
   "source": []
  }
 ],
 "metadata": {
  "kernelspec": {
   "display_name": "Python 3",
   "language": "python",
   "name": "python3"
  },
  "language_info": {
   "codemirror_mode": {
    "name": "ipython",
    "version": 3
   },
   "file_extension": ".py",
   "mimetype": "text/x-python",
   "name": "python",
   "nbconvert_exporter": "python",
   "pygments_lexer": "ipython3",
   "version": "3.6.3"
  }
 },
 "nbformat": 4,
 "nbformat_minor": 2
}
