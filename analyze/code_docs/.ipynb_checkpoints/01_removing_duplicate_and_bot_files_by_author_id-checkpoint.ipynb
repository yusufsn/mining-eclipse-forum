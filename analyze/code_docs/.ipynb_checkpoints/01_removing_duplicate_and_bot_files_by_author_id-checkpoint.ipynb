{
 "cells": [
  {
   "cell_type": "markdown",
   "metadata": {},
   "source": [
    "# Import libraries"
   ]
  },
  {
   "cell_type": "code",
   "execution_count": 1,
   "metadata": {
    "collapsed": true
   },
   "outputs": [],
   "source": [
    "import os, glob, csv, sys, re\n",
    "from os import path\n",
    "import pandas as pd\n",
    "from bs4 import BeautifulSoup"
   ]
  },
  {
   "cell_type": "markdown",
   "metadata": {},
   "source": [
    "# Define directories"
   ]
  },
  {
   "cell_type": "code",
   "execution_count": 2,
   "metadata": {
    "collapsed": true
   },
   "outputs": [],
   "source": [
    "number = '12'\n",
    "userhome = os.path.expanduser('~')\n",
    "dataset = userhome + r'/mining-forum/data/forumfiles_' + number + '/'\n",
    "analyze_dir = userhome + r'/mining-forum/analyze/'"
   ]
  },
  {
   "cell_type": "markdown",
   "metadata": {},
   "source": [
    "# Counting number of files"
   ]
  },
  {
   "cell_type": "code",
   "execution_count": 3,
   "metadata": {},
   "outputs": [
    {
     "name": "stdout",
     "output_type": "stream",
     "text": [
      "Found 43999 files\n"
     ]
    }
   ],
   "source": [
    "file_list = glob.iglob(dataset + '*')\n",
    "filenum = ';'.join(file_list).split(';')\n",
    "filenum.sort()\n",
    "print (\"Found \" + str(len(filenum)) + \" files\")"
   ]
  },
  {
   "cell_type": "markdown",
   "metadata": {},
   "source": [
    "# Clean the noisy data (remove duplicate files)"
   ]
  },
  {
   "cell_type": "code",
   "execution_count": null,
   "metadata": {},
   "outputs": [
    {
     "name": "stdout",
     "output_type": "stream",
     "text": [
      "Extracting file number: 33401 / 43999 --> /Users/YusufNugroho/mining-forum/data/forumfiles_12/31647"
     ]
    }
   ],
   "source": [
    "file = []\n",
    "mid_list = []\n",
    "num = 0\n",
    "for files in glob.iglob(dataset + \"*\"):    \n",
    "    num += 1\n",
    "    sys.stdout.write('\\rExtracting file number: %i' %(num) + ' / %i' %(len(filenum)) + ' --> %s' %(files))\n",
    "    sys.stdout.flush()\n",
    "\n",
    "    f = open(files)\n",
    "    f = f.read()\n",
    "    \n",
    "    file_num = re.search('\\/(\\d+)', files)\n",
    "    file_num = file_num.group(1)\n",
    "    \n",
    "    try:\n",
    "        soup = BeautifulSoup(f, 'html.parser')\n",
    "        topic = soup.find('a', attrs={'class':'MsgSubText'})\n",
    "        for title in topic.stripped_strings:\n",
    "            title = title\n",
    "\n",
    "        msid = []\n",
    "        soup = BeautifulSoup(f, 'html.parser')\n",
    "        for message_id in soup.find_all('td', attrs={'class':'MsgR1 vt al MsgSubText'}):\n",
    "            for mid in message_id.find_all('span', attrs={'class':'SmallText'}):\n",
    "                for msgid in mid.find_all('a'):\n",
    "                    msid.append(msgid.text)\n",
    "        msid = msid[0]\n",
    "\n",
    "        data = [file_num, msid, title]\n",
    "        username = []\n",
    "        uname = []\n",
    "        href = []\n",
    "        soup = BeautifulSoup(f, 'html.parser')\n",
    "        for userlink in soup.find_all('td', attrs={'class':'MsgSpacer'}):\n",
    "            for user in userlink.find_all('td', attrs={'class':'msgud'}):\n",
    "                for usr in user.find_all('a', href=True):\n",
    "                    href.append(usr['href'])                                        \n",
    "                    uname.append(usr.text)\n",
    "                    if uname[0] == '':\n",
    "                        uname[0] = 'Eclipse User'\n",
    "                    username = [uname[0],href[0]]\n",
    "                    \n",
    "                    try:\n",
    "                        aut_id = re.search('(\\d+)', username[1])\n",
    "                        aut_id = aut_id.group()\n",
    "                    except:\n",
    "                        aut_id = '0'\n",
    "                    \n",
    "                    username.insert(len(username),aut_id)\n",
    "\n",
    "        if msid not in mid_list:\n",
    "            mid_list.append(msid)\n",
    "            clean_file = [file_num, msid, title, username[0], username[1], username[2]]\n",
    "            file.append(clean_file)\n",
    "        else:\n",
    "            pass\n",
    "\n",
    "    except:\n",
    "        pass\n",
    "    \n",
    "print (\"\\nFiltering files are finished\")"
   ]
  },
  {
   "cell_type": "code",
   "execution_count": null,
   "metadata": {
    "scrolled": true
   },
   "outputs": [],
   "source": [
    "file.sort()\n",
    "file"
   ]
  },
  {
   "cell_type": "code",
   "execution_count": null,
   "metadata": {},
   "outputs": [],
   "source": [
    "len(file)"
   ]
  },
  {
   "cell_type": "code",
   "execution_count": null,
   "metadata": {},
   "outputs": [],
   "source": [
    "with open (analyze_dir + 'csv_files/clean_files/with_author_id/clean_files_forum_with_author_id_' + number + '.csv', 'w') as csvfile:\n",
    "    writers = csv.writer(csvfile, delimiter = \",\")\n",
    "    header = ['file_number', 'message_id', 'title', 'author', 'author_link', 'author_id']\n",
    "    writers.writerow(header)\n",
    "    for item in file:\n",
    "        writers.writerow(item)\n",
    "print ('CSV file has been created')"
   ]
  },
  {
   "cell_type": "code",
   "execution_count": null,
   "metadata": {
    "scrolled": true
   },
   "outputs": [],
   "source": [
    "df_thread = pd.read_csv(analyze_dir + 'csv_files/clean_files/with_author_id/clean_files_forum_with_author_id_' + number + '.csv')\n",
    "df_thread"
   ]
  },
  {
   "cell_type": "markdown",
   "metadata": {},
   "source": [
    "# Remove threads if the author is Eclipse Webmaster"
   ]
  },
  {
   "cell_type": "code",
   "execution_count": null,
   "metadata": {
    "scrolled": true
   },
   "outputs": [],
   "source": [
    "cols = ['file_number', 'message_id', 'title', 'author', 'author_link', 'author_id']\n",
    "new_df_thread = df_thread[cols][df_thread[cols]['author_id'] != 9957]\n",
    "new_df_thread"
   ]
  },
  {
   "cell_type": "code",
   "execution_count": null,
   "metadata": {},
   "outputs": [],
   "source": [
    "new_df_thread.to_csv(analyze_dir + 'csv_files/clean_files/with_author_id/cleaned/threads_without_bot_authors_forum_' + number + '.csv', index=False)\n",
    "print (\"CSV file has been created\")"
   ]
  },
  {
   "cell_type": "code",
   "execution_count": null,
   "metadata": {
    "collapsed": true
   },
   "outputs": [],
   "source": []
  }
 ],
 "metadata": {
  "kernelspec": {
   "display_name": "Python 3",
   "language": "python",
   "name": "python3"
  },
  "language_info": {
   "codemirror_mode": {
    "name": "ipython",
    "version": 3
   },
   "file_extension": ".py",
   "mimetype": "text/x-python",
   "name": "python",
   "nbconvert_exporter": "python",
   "pygments_lexer": "ipython3",
   "version": "3.6.3"
  }
 },
 "nbformat": 4,
 "nbformat_minor": 2
}
